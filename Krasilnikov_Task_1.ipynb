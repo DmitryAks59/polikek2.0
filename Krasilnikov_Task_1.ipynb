{
 "cells": [
  {
   "cell_type": "code",
   "execution_count": 4,
   "metadata": {},
   "outputs": [
    {
     "name": "stdout",
     "output_type": "stream",
     "text": [
      "Стоимость размещения составляет:  467500.0 рублей\n"
     ]
    }
   ],
   "source": [
    "quantity=int(input('Сколько рекламных щитов требует ваша рекламная компания?: '))\n",
    "vp=5500*quantity\n",
    "if quantity <=19:\n",
    "    print(\"Стоимость размещения составляет: \", vp , \"рублей\")\n",
    "elif quantity >=20 and quantity < 50:\n",
    "    st1=vp*0.95\n",
    "    print(\"Стоимость размещения составляет: \", st1 , \"рублей\")\n",
    "elif quantity >=50 and quantity < 100:\n",
    "    st2=vp*0.9\n",
    "    print(\"Стоимость размещения составляет: \", st2 , \"рублей\")\n",
    "elif quantity>=100:\n",
    "    st3=vp*0.85 \n",
    "    print(\"Стоимость размещения составляет: \", st3, \"рублей\")"
   ]
  },
  {
   "cell_type": "code",
   "execution_count": null,
   "metadata": {},
   "outputs": [],
   "source": []
  }
 ],
 "metadata": {
  "kernelspec": {
   "display_name": "Python 3.10.7 64-bit",
   "language": "python",
   "name": "python3"
  },
  "language_info": {
   "codemirror_mode": {
    "name": "ipython",
    "version": 3
   },
   "file_extension": ".py",
   "mimetype": "text/x-python",
   "name": "python",
   "nbconvert_exporter": "python",
   "pygments_lexer": "ipython3",
   "version": "3.10.7"
  },
  "orig_nbformat": 4,
  "vscode": {
   "interpreter": {
    "hash": "305ef3f5ebfb772cf36ad768aa0371a76d4f9c468fa2831dc8f3165133ea3ace"
   }
  }
 },
 "nbformat": 4,
 "nbformat_minor": 2
}
