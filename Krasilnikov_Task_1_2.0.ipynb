{
 "cells": [
  {
   "cell_type": "code",
   "execution_count": null,
   "metadata": {},
   "outputs": [],
   "source": [
    "quantity=int(input('Сколько рекламных щитов требует ваша рекламная компания?: '))    #Калькурятор, который высчитывает стоимость размещения рекламной кампании на ракламных щитах\n",
    "vp=5500*quantity\n",
    "if quantity <=19:\n",
    "    print(\"Стоимость размещения составляет: \", vp , \"рублей\")\n",
    "    if int(input('Вы ходите, чтобы мы напечатали ваши рекламные банеры?').lower() == \"да\"):\n",
    "            print('Полная стоимость составляет', vp + (quantity * 1250), \"рублей\")\n",
    "    else:\n",
    "        print('Полная стоимость составляет', vp, \"рублей\")\n",
    "elif quantity >=20 and quantity < 50:\n",
    "    st1=vp*0.95\n",
    "    print(\"Стоимость размещения составляет: \", st1 , \"рублей\")    #В зависимости от количества дает клиенту скидку\n",
    "    if int(input('Вы ходите, чтобы мы напечатали ваши рекламные банеры?').lower() == \"да\"):\n",
    "            print('Полная стоимость составляет', st1 + (quantity * 1250), \"рублей\")\n",
    "    else:\n",
    "        print('Полная стоимость составляет', st1, \"рублей\")\n",
    "elif quantity >=50 and quantity < 100:\n",
    "    st2=vp*0.9\n",
    "    print(\"Стоимость размещения составляет: \", st2 , \"рублей\")\n",
    "    if int(input('Вы ходите, чтобы мы напечатали ваши рекламные банеры?').lower() == \"да\"):    #Если клиент заказывает печать, то общая сумма заказа возрастает\n",
    "            print('Полная стоимость составляет', st2 + (quantity * 1250), \"рублей\")\n",
    "    else:\n",
    "        print('Полная стоимость составляет', st2, \"рублей\")\n",
    "elif quantity>=100:\n",
    "    st3=vp*0.85 \n",
    "    print(\"Стоимость размещения составляет: \", st3, \"рублей\")\n",
    "    if int(input('Вы ходите, чтобы мы напечатали ваши рекламные банеры?').lower() == \"да\"):\n",
    "        print('Полная стоимость составляет', st3 + (quantity * 1250))\n",
    "    else:\n",
    "        print('Полная стоимость составляет', st3, \"рублей\")\n"
   ]
  }
 ],
 "metadata": {
  "kernelspec": {
   "display_name": "Python 3.10.7 64-bit",
   "language": "python",
   "name": "python3"
  },
  "language_info": {
   "codemirror_mode": {
    "name": "ipython",
    "version": 3
   },
   "file_extension": ".py",
   "mimetype": "text/x-python",
   "name": "python",
   "nbconvert_exporter": "python",
   "pygments_lexer": "ipython3",
   "version": "3.10.7"
  },
  "orig_nbformat": 4,
  "vscode": {
   "interpreter": {
    "hash": "305ef3f5ebfb772cf36ad768aa0371a76d4f9c468fa2831dc8f3165133ea3ace"
   }
  }
 },
 "nbformat": 4,
 "nbformat_minor": 2
}
